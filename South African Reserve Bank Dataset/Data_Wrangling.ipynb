{
 "cells": [
  {
   "cell_type": "markdown",
   "id": "49f32dc1",
   "metadata": {},
   "source": [
    "# Importing Libraries "
   ]
  },
  {
   "cell_type": "code",
   "execution_count": 2,
   "id": "62c4b4eb",
   "metadata": {},
   "outputs": [],
   "source": [
    "import pandas as pd"
   ]
  },
  {
   "cell_type": "code",
   "execution_count": 5,
   "id": "6bfa08d9",
   "metadata": {},
   "outputs": [
    {
     "name": "stdout",
     "output_type": "stream",
     "text": [
      "Collecting pandas\n",
      "  Using cached pandas-2.2.3-cp313-cp313-win_amd64.whl.metadata (19 kB)\n",
      "Collecting numpy>=1.26.0 (from pandas)\n",
      "  Downloading numpy-2.2.4-cp313-cp313-win_amd64.whl.metadata (60 kB)\n",
      "Requirement already satisfied: python-dateutil>=2.8.2 in c:\\data-analytics-projects\\.venv.venvscriptsactivatepip\\lib\\site-packages (from pandas) (2.9.0.post0)\n",
      "Collecting pytz>=2020.1 (from pandas)\n",
      "  Downloading pytz-2025.2-py2.py3-none-any.whl.metadata (22 kB)\n",
      "Collecting tzdata>=2022.7 (from pandas)\n",
      "  Downloading tzdata-2025.2-py2.py3-none-any.whl.metadata (1.4 kB)\n",
      "Requirement already satisfied: six>=1.5 in c:\\data-analytics-projects\\.venv.venvscriptsactivatepip\\lib\\site-packages (from python-dateutil>=2.8.2->pandas) (1.17.0)\n",
      "Using cached pandas-2.2.3-cp313-cp313-win_amd64.whl (11.5 MB)\n",
      "Downloading numpy-2.2.4-cp313-cp313-win_amd64.whl (12.6 MB)\n",
      "   ---------------------------------------- 0.0/12.6 MB ? eta -:--:--\n",
      "   ---------------------------------------- 0.0/12.6 MB ? eta -:--:--\n",
      "   ---------------------------------------- 0.0/12.6 MB ? eta -:--:--\n",
      "   - -------------------------------------- 0.5/12.6 MB 2.9 MB/s eta 0:00:05\n",
      "   -- ------------------------------------- 0.8/12.6 MB 2.4 MB/s eta 0:00:05\n",
      "   -- ------------------------------------- 0.8/12.6 MB 2.4 MB/s eta 0:00:05\n",
      "   ---- ----------------------------------- 1.6/12.6 MB 1.9 MB/s eta 0:00:06\n",
      "   ------ --------------------------------- 2.1/12.6 MB 2.0 MB/s eta 0:00:06\n",
      "   -------- ------------------------------- 2.6/12.6 MB 2.2 MB/s eta 0:00:05\n",
      "   -------- ------------------------------- 2.6/12.6 MB 2.2 MB/s eta 0:00:05\n",
      "   -------- ------------------------------- 2.6/12.6 MB 2.2 MB/s eta 0:00:05\n",
      "   --------- ------------------------------ 2.9/12.6 MB 1.5 MB/s eta 0:00:07\n",
      "   --------- ------------------------------ 2.9/12.6 MB 1.5 MB/s eta 0:00:07\n",
      "   --------- ------------------------------ 3.1/12.6 MB 1.3 MB/s eta 0:00:08\n",
      "   --------- ------------------------------ 3.1/12.6 MB 1.3 MB/s eta 0:00:08\n",
      "   ---------- ----------------------------- 3.4/12.6 MB 1.2 MB/s eta 0:00:08\n",
      "   ------------- -------------------------- 4.2/12.6 MB 1.4 MB/s eta 0:00:07\n",
      "   ------------- -------------------------- 4.2/12.6 MB 1.4 MB/s eta 0:00:07\n",
      "   --------------- ------------------------ 5.0/12.6 MB 1.5 MB/s eta 0:00:06\n",
      "   ---------------- ----------------------- 5.2/12.6 MB 1.5 MB/s eta 0:00:06\n",
      "   ----------------- ---------------------- 5.5/12.6 MB 1.5 MB/s eta 0:00:05\n",
      "   ------------------- -------------------- 6.0/12.6 MB 1.5 MB/s eta 0:00:05\n",
      "   ------------------- -------------------- 6.3/12.6 MB 1.5 MB/s eta 0:00:05\n",
      "   -------------------- ------------------- 6.6/12.6 MB 1.5 MB/s eta 0:00:05\n",
      "   --------------------- ------------------ 6.8/12.6 MB 1.5 MB/s eta 0:00:04\n",
      "   ----------------------- ---------------- 7.3/12.6 MB 1.5 MB/s eta 0:00:04\n",
      "   ------------------------ --------------- 7.6/12.6 MB 1.5 MB/s eta 0:00:04\n",
      "   ------------------------ --------------- 7.6/12.6 MB 1.5 MB/s eta 0:00:04\n",
      "   ------------------------ --------------- 7.9/12.6 MB 1.4 MB/s eta 0:00:04\n",
      "   ------------------------- -------------- 8.1/12.6 MB 1.4 MB/s eta 0:00:04\n",
      "   -------------------------- ------------- 8.4/12.6 MB 1.4 MB/s eta 0:00:04\n",
      "   --------------------------- ------------ 8.7/12.6 MB 1.4 MB/s eta 0:00:03\n",
      "   ---------------------------- ----------- 8.9/12.6 MB 1.4 MB/s eta 0:00:03\n",
      "   ----------------------------- ---------- 9.2/12.6 MB 1.4 MB/s eta 0:00:03\n",
      "   ----------------------------- ---------- 9.4/12.6 MB 1.4 MB/s eta 0:00:03\n",
      "   ------------------------------ --------- 9.7/12.6 MB 1.4 MB/s eta 0:00:03\n",
      "   ------------------------------- -------- 10.0/12.6 MB 1.4 MB/s eta 0:00:02\n",
      "   -------------------------------- ------- 10.2/12.6 MB 1.4 MB/s eta 0:00:02\n",
      "   --------------------------------- ------ 10.5/12.6 MB 1.4 MB/s eta 0:00:02\n",
      "   ---------------------------------- ----- 11.0/12.6 MB 1.4 MB/s eta 0:00:02\n",
      "   ----------------------------------- ---- 11.3/12.6 MB 1.4 MB/s eta 0:00:01\n",
      "   ------------------------------------ --- 11.5/12.6 MB 1.4 MB/s eta 0:00:01\n",
      "   ------------------------------------- -- 11.8/12.6 MB 1.4 MB/s eta 0:00:01\n",
      "   -------------------------------------- - 12.1/12.6 MB 1.4 MB/s eta 0:00:01\n",
      "   -------------------------------------- - 12.3/12.6 MB 1.4 MB/s eta 0:00:01\n",
      "   ---------------------------------------  12.6/12.6 MB 1.4 MB/s eta 0:00:01\n",
      "   ---------------------------------------  12.6/12.6 MB 1.4 MB/s eta 0:00:01\n",
      "   ---------------------------------------- 12.6/12.6 MB 1.3 MB/s eta 0:00:00\n",
      "Downloading pytz-2025.2-py2.py3-none-any.whl (509 kB)\n",
      "Downloading tzdata-2025.2-py2.py3-none-any.whl (347 kB)\n",
      "Installing collected packages: pytz, tzdata, numpy, pandas\n",
      "Successfully installed numpy-2.2.4 pandas-2.2.3 pytz-2025.2 tzdata-2025.2\n"
     ]
    },
    {
     "name": "stderr",
     "output_type": "stream",
     "text": [
      "\n",
      "[notice] A new release of pip is available: 24.3.1 -> 25.0.1\n",
      "[notice] To update, run: python.exe -m pip install --upgrade pip\n"
     ]
    }
   ],
   "source": [
    "!pip install pandas"
   ]
  },
  {
   "cell_type": "markdown",
   "id": "7560b9af",
   "metadata": {},
   "source": [
    "# Importing datasets"
   ]
  },
  {
   "cell_type": "code",
   "execution_count": null,
   "id": "c3d3f1eb",
   "metadata": {},
   "outputs": [
    {
     "ename": "",
     "evalue": "",
     "output_type": "error",
     "traceback": [
      "\u001b[1;31mRunning cells with '.venv (Python 3.13.2)' requires the ipykernel package.\n",
      "\u001b[1;31mInstall 'ipykernel' into the Python environment. \n",
      "\u001b[1;31mCommand: 'c:/Data-Analytics-Projects/.venv/Scripts/python.exe -m pip install ipykernel -U --force-reinstall'"
     ]
    }
   ],
   "source": [
    "sarb_annual = pd.read_csv(\"C://Data-Analytics-Projects//South_African_Reserve_Bank_Dataset//data//sarb_annual.csv\")"
   ]
  },
  {
   "cell_type": "code",
   "execution_count": 1,
   "id": "60dfda21",
   "metadata": {},
   "outputs": [
    {
     "ename": "NameError",
     "evalue": "name 'pd' is not defined",
     "output_type": "error",
     "traceback": [
      "\u001b[1;31m---------------------------------------------------------------------------\u001b[0m",
      "\u001b[1;31mNameError\u001b[0m                                 Traceback (most recent call last)",
      "Cell \u001b[1;32mIn[1], line 1\u001b[0m\n\u001b[1;32m----> 1\u001b[0m sarb_day \u001b[38;5;241m=\u001b[39m pd\u001b[38;5;241m.\u001b[39mread_csv(\u001b[38;5;124m\"\u001b[39m\u001b[38;5;124mC:/Data-Analytics-Projects/South_African_Reserve_Bank_Dataset/data/sarb_day.csv\u001b[39m\u001b[38;5;124m\"\u001b[39m)\n\u001b[0;32m      2\u001b[0m sarb_description \u001b[38;5;241m=\u001b[39m pd\u001b[38;5;241m.\u001b[39mread_csv(\u001b[38;5;124m\"\u001b[39m\u001b[38;5;124mC:/Data-Analytics-Projects/South_African_Reserve_Bank_Dataset/data/sarb_description.csv\u001b[39m\u001b[38;5;124m\"\u001b[39m)\n\u001b[0;32m      3\u001b[0m sarb_month \u001b[38;5;241m=\u001b[39m pd\u001b[38;5;241m.\u001b[39mread_csv(\u001b[38;5;124m\"\u001b[39m\u001b[38;5;124mC:/Data-Analytics-Projects/South_African_Reserve_Bank_Dataset/data/sarb_month.csv\u001b[39m\u001b[38;5;124m\"\u001b[39m)\n",
      "\u001b[1;31mNameError\u001b[0m: name 'pd' is not defined"
     ]
    }
   ],
   "source": [
    "\n",
    "sarb_day = pd.read_csv(\"C:/Data-Analytics-Projects/South_African_Reserve_Bank_Dataset/data/sarb_day.csv\")\n",
    "sarb_description = pd.read_csv(\"C:/Data-Analytics-Projects/South_African_Reserve_Bank_Dataset/data/sarb_description.csv\")\n",
    "sarb_month = pd.read_csv(\"C:/Data-Analytics-Projects/South_African_Reserve_Bank_Dataset/data/sarb_month.csv\")\n",
    "sarb_quarter = pd.read_csv(\"C:/Data-Analytics-Projects/South_African_Reserve_Bank_Dataset/data/sarb_quarter.csv\")\n",
    "sarb_week = pd.read_csv(\"C:/Data-Analytics-Projects/South_African_Reserve_Bank_Dataset/data/sarb_week.csv\")"
   ]
  },
  {
   "cell_type": "code",
   "execution_count": null,
   "id": "5cd9dd65",
   "metadata": {},
   "outputs": [],
   "source": []
  }
 ],
 "metadata": {
  "kernelspec": {
   "display_name": "base",
   "language": "python",
   "name": "python3"
  },
  "language_info": {
   "codemirror_mode": {
    "name": "ipython",
    "version": 3
   },
   "file_extension": ".py",
   "mimetype": "text/x-python",
   "name": "python",
   "nbconvert_exporter": "python",
   "pygments_lexer": "ipython3",
   "version": "3.12.7"
  }
 },
 "nbformat": 4,
 "nbformat_minor": 5
}
