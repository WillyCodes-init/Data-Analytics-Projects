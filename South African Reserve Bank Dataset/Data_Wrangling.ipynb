{
 "cells": [
  {
   "cell_type": "markdown",
   "id": "49f32dc1",
   "metadata": {},
   "source": [
    "# Importing Libraries "
   ]
  },
  {
   "cell_type": "code",
   "execution_count": null,
   "id": "62c4b4eb",
   "metadata": {},
   "outputs": [
    {
     "ename": "",
     "evalue": "",
     "output_type": "error",
     "traceback": [
      "\u001b[1;31mFailed to start the Kernel. \n",
      "\u001b[1;31mUnable to start Kernel 'Python 3.13.2' due to a timeout waiting for the ports to get used. \n",
      "\u001b[1;31mView Jupyter <a href='command:jupyter.viewOutput'>log</a> for further details."
     ]
    }
   ],
   "source": [
    "import pandas as pd"
   ]
  },
  {
   "cell_type": "markdown",
   "id": "7560b9af",
   "metadata": {},
   "source": [
    "# Importing datasets"
   ]
  },
  {
   "cell_type": "code",
   "execution_count": null,
   "id": "60dfda21",
   "metadata": {},
   "outputs": [
    {
     "ename": "",
     "evalue": "",
     "output_type": "error",
     "traceback": [
      "\u001b[1;31mRunning cells with 'Python 3.11.9' requires the ipykernel package.\n",
      "\u001b[1;31m<a href='command:jupyter.createPythonEnvAndSelectController'>Create a Python Environment</a> with the required packages.\n",
      "\u001b[1;31mOr install 'ipykernel' using the command: '\"c:/Users/Mafube William Mokon/AppData/Local/Microsoft/WindowsApps/python3.11.exe\" -m pip install ipykernel -U --user --force-reinstall'"
     ]
    }
   ],
   "source": [
    "sarb_annual = pd.read_csv(\"C:/Data-Analytics-Projects/South_African_Reserve_Bank_Dataset/data/sarb_annual.csv\")\n",
    "sarb_day = pd.read_csv(\"C:/Data-Analytics-Projects/South_African_Reserve_Bank_Dataset/data/sarb_day.csv\")\n",
    "sarb_description = pd.read_csv(\"C:/Data-Analytics-Projects/South_African_Reserve_Bank_Dataset/data/sarb_description.csv\")\n",
    "sarb_month = pd.read_csv(\"C:/Data-Analytics-Projects/South_African_Reserve_Bank_Dataset/data/sarb_month.csv\")\n",
    "sarb_quarter = pd.read_csv(\"C:/Data-Analytics-Projects/South_African_Reserve_Bank_Dataset/data/sarb_quarter.csv\")\n",
    "sarb_week = pd.read_csv(\"C:/Data-Analytics-Projects/South_African_Reserve_Bank_Dataset/data/sarb_week.csv\")"
   ]
  },
  {
   "cell_type": "code",
   "execution_count": null,
   "id": "5cd9dd65",
   "metadata": {},
   "outputs": [],
   "source": []
  }
 ],
 "metadata": {
  "kernelspec": {
   "display_name": "Python 3",
   "language": "python",
   "name": "python3"
  },
  "language_info": {
   "name": "python",
   "version": "3.13.2"
  }
 },
 "nbformat": 4,
 "nbformat_minor": 5
}
